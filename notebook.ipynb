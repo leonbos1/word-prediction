{
 "cells": [
  {
   "cell_type": "code",
   "execution_count": 298,
   "metadata": {},
   "outputs": [],
   "source": [
    "from sklearn.model_selection import train_test_split\n",
    "import os\n",
    "import cv2\n",
    "import numpy as np\n",
    "import tensorflow as tf\n",
    "from tensorflow.keras.models import Sequential\n",
    "import matplotlib.pyplot as plt\n",
    "import os.path\n",
    "from tensorflow.keras.layers import Conv2D, MaxPooling2D, Flatten, Dense"
   ]
  },
  {
   "cell_type": "code",
   "execution_count": 299,
   "metadata": {},
   "outputs": [],
   "source": [
    "plot_predictions = False\n",
    "\n",
    "data_path = 'data'\n",
    "categories = ['a', 'b', 'l', 'p', 'o', 'k', 's']\n",
    "\n",
    "data = []\n",
    "labels = []"
   ]
  },
  {
   "cell_type": "code",
   "execution_count": 300,
   "metadata": {},
   "outputs": [],
   "source": [
    "for category in categories:\n",
    "    category_path = os.path.join(data_path, category)\n",
    "    class_num = categories.index(category)\n",
    "    for img in os.listdir(category_path):\n",
    "        try:\n",
    "            img_path = os.path.join(category_path, img)\n",
    "            img_array = cv2.imread(img_path, cv2.IMREAD_GRAYSCALE)\n",
    "            data.append(img_array)\n",
    "            labels.append(class_num)\n",
    "        except Exception as e:\n",
    "            pass\n",
    "\n",
    "data = np.array(data) / 255.0\n",
    "data = np.reshape(data, (data.shape[0], 16, 16, 1))\n",
    "labels = np.array(labels)"
   ]
  },
  {
   "cell_type": "code",
   "execution_count": 301,
   "metadata": {},
   "outputs": [],
   "source": [
    "def save_model(model):\n",
    "    model.save('model.h5')"
   ]
  },
  {
   "cell_type": "code",
   "execution_count": 302,
   "metadata": {},
   "outputs": [],
   "source": [
    "def load_model():\n",
    "    if os.path.isfile('model.h5'):\n",
    "        model = tf.keras.models.load_model('model.h5')\n",
    "        return model, True\n",
    "\n",
    "    model = Sequential([\n",
    "        Conv2D(32, (3, 3), activation='relu', input_shape=(16, 16, 1)),\n",
    "        MaxPooling2D(2, 2),\n",
    "        Conv2D(64, (3, 3), activation='relu'),\n",
    "        MaxPooling2D(2, 2),\n",
    "        Flatten(),\n",
    "        Dense(64, activation='relu'),\n",
    "        Dense(len(categories), activation='softmax')\n",
    "    ])\n",
    "\n",
    "    model.compile(optimizer='adam',\n",
    "                  loss='sparse_categorical_crossentropy', metrics=['accuracy'])\n",
    "\n",
    "    return model, False"
   ]
  },
  {
   "cell_type": "code",
   "execution_count": 303,
   "metadata": {},
   "outputs": [
    {
     "name": "stdout",
     "output_type": "stream",
     "text": [
      "1/1 [==============================] - 0s 42ms/step\n"
     ]
    }
   ],
   "source": [
    "X_train, X_test, y_train, y_test = train_test_split(\n",
    "    data, labels, test_size=0.1)\n",
    "\n",
    "model, loaded = load_model()\n",
    "\n",
    "if not loaded:\n",
    "    model.fit(X_train, y_train, epochs=50, validation_data=(X_test, y_test))\n",
    "\n",
    "    save_model(model)\n",
    "\n",
    "predictions = model.predict(X_test)\n",
    "\n",
    "predicted_labels = np.argmax(predictions, axis=1)\n",
    "\n",
    "predicted_labels = np.argmax(predictions, axis=1)\n"
   ]
  },
  {
   "cell_type": "code",
   "execution_count": 304,
   "metadata": {},
   "outputs": [
    {
     "data": {
      "image/png": "[encoded data removed]",
      "text/plain": [
       "<Figure size 1000x1000 with 8 Axes>"
      ]
     },
     "metadata": {},
     "output_type": "display_data"
    },
    {
     "name": "stdout",
     "output_type": "stream",
     "text": [
      "Accuracy: 1.0\n"
     ]
    }
   ],
   "source": [
    "plot_predictions = True\n",
    "\n",
    "if plot_predictions:\n",
    "    plt.figure(figsize=(10, 10))\n",
    "    accuracy = 0\n",
    "\n",
    "    for i in range(len(X_test)):\n",
    "        plt.subplot(5, 5, i+1)\n",
    "        plt.xticks([])\n",
    "        plt.yticks([])\n",
    "        plt.grid(False)\n",
    "        plt.imshow(X_test[i].reshape(16, 16), cmap='gray')\n",
    "        plt.xlabel(\n",
    "            f\"Predicted: {categories[predicted_labels[i]]}\\nTrue: {categories[y_test[i]]}\")\n",
    "        if predicted_labels[i] == y_test[i]:\n",
    "            accuracy += 1\n",
    "\n",
    "    plt.tight_layout()\n",
    "\n",
    "    plt.show()\n",
    "\n",
    "    print(f\"Accuracy: {accuracy/len(X_test)}\")"
   ]
  },
  {
   "cell_type": "code",
   "execution_count": 309,
   "metadata": {},
   "outputs": [
    {
     "name": "stdout",
     "output_type": "stream",
     "text": [
      "Number of contours found: 4\n",
      "1/1 [==============================] - 0s 16ms/step\n",
      "[[0. 0. 0. 0. 0. 1. 0.]]\n",
      "k\n",
      "1/1 [==============================] - 0s 14ms/step\n",
      "[[1. 0. 0. 0. 0. 0. 0.]]\n",
      "a\n",
      "1/1 [==============================] - 0s 14ms/step\n",
      "[[1. 0. 0. 0. 0. 0. 0.]]\n",
      "a\n",
      "1/1 [==============================] - 0s 14ms/step\n",
      "[[0.0000000e+00 0.0000000e+00 0.0000000e+00 2.3033032e-05 0.0000000e+00\n",
      "  0.0000000e+00 9.9997699e-01]]\n",
      "s\n"
     ]
    },
    {
     "data": {
      "image/png": "[encoded data removed]",
      "text/plain": [
       "<Figure size 640x480 with 1 Axes>"
      ]
     },
     "metadata": {},
     "output_type": "display_data"
    },
    {
     "name": "stdout",
     "output_type": "stream",
     "text": [
      "Word: kaas\n"
     ]
    }
   ],
   "source": [
    "word_img_path = 'data/word.png'\n",
    "\n",
    "image = cv2.imread(word_img_path)\n",
    "\n",
    "gray = cv2.cvtColor(src=image, code=cv2.COLOR_BGR2GRAY)\n",
    "\n",
    "ret, im = cv2.threshold(gray, 100, 255, cv2.THRESH_BINARY_INV)\n",
    "\n",
    "contours, hierarchy = cv2.findContours(\n",
    "    im, cv2.RETR_EXTERNAL, cv2.CHAIN_APPROX_SIMPLE)\n",
    "\n",
    "image = cv2.cvtColor(image, cv2.COLOR_BGR2RGB)\n",
    "\n",
    "print(f\"Number of contours found: {len(contours)}\")\n",
    "\n",
    "letter_boxes = []\n",
    "\n",
    "for contour in contours:\n",
    "    x, y, w, h = cv2.boundingRect(contour)\n",
    "    if w > 1 and h > 1:\n",
    "        letter_boxes.append((x, y, w, h))\n",
    "\n",
    "letter_boxes = sorted(letter_boxes, key=lambda x: x[0])\n",
    "\n",
    "image_with_boxes = image.copy()\n",
    "\n",
    "image_with_boxes = cv2.cvtColor(image_with_boxes, cv2.COLOR_BGR2RGB)\n",
    "\n",
    "predictions = []\n",
    "word = \"\"\n",
    "\n",
    "for i, letter_boxes in enumerate(letter_boxes):\n",
    "    x, y, w, h = letter_boxes\n",
    "    letter_image = im[y:y+h, x:x+w]\n",
    "\n",
    "    letter_image = cv2.bitwise_not(letter_image)\n",
    "\n",
    "    letter_image = cv2.resize(letter_image, (16, 16))\n",
    "\n",
    "    # plt.imshow(letter_image)\n",
    "    # plt.show()\n",
    "\n",
    "    letter_image = np.reshape(letter_image, (1, 16, 16, 1))\n",
    "\n",
    "    prediction = model.predict(letter_image)\n",
    "    print(prediction)\n",
    "    predicted_label = np.argmax(prediction, axis=1)\n",
    "\n",
    "    cv2.rectangle(image_with_boxes, (x, y), (x+w, y+h), (0, 255, 0), 1)\n",
    "\n",
    "    print(categories[predicted_label[0]])\n",
    "    word += categories[predicted_label[0]]\n",
    "\n",
    "plt.imshow(image_with_boxes)\n",
    "plt.show()\n",
    "\n",
    "print(f\"Word: {word}\")"
   ]
  }
 ],
 "metadata": {
  "kernelspec": {
   "display_name": ".venv",
   "language": "python",
   "name": "python3"
  },
  "language_info": {
   "codemirror_mode": {
    "name": "ipython",
    "version": 3
   },
   "file_extension": ".py",
   "mimetype": "text/x-python",
   "name": "python",
   "nbconvert_exporter": "python",
   "pygments_lexer": "ipython3",
   "version": "3.11.3"
  }
 },
 "nbformat": 4,
 "nbformat_minor": 2
}
